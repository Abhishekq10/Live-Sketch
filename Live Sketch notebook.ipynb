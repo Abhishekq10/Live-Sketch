{
 "cells": [
  {
   "cell_type": "code",
   "execution_count": 12,
   "id": "blond-treasury",
   "metadata": {},
   "outputs": [],
   "source": [
    "#imports\n",
    "import cv2\n",
    "import numpy as np\n",
    "\n",
    "# This is the sketch generator function\n",
    "def sketch(img):\n",
    "    # Convert BGR into Grayscale\n",
    "    img_gray = cv2.cvtColor(img, cv2.COLOR_BGR2GRAY)\n",
    "    \n",
    "    # Clean the picture with Gaussian blur\n",
    "    img_gray_blur = cv2.GaussianBlur(img_gray, (7,7), 0)\n",
    "    \n",
    "    # Extract edges with Canny\n",
    "    canny_edge  =cv2.Canny(img_gray_blur, 10, 50)\n",
    "    \n",
    "    # Invert the image and binarize for sketch\n",
    "    ret, mask = cv2.threshold(canny_edge, 70, 255, cv2.THRESH_BINARY_INV)\n",
    "    return mask\n",
    "\n",
    "# Initialize the webcam, capture is the object from video capture\n",
    "# It has a boolean indicating the incoming stream\n",
    "# It also has the image frames collected from the stream of cam\n",
    "\n",
    "capture = cv2.VideoCapture(0)\n",
    "\n",
    "while True:\n",
    "    ret, frame = capture.read()\n",
    "    cv2.imshow(\"The Live Sketch\", sketch(frame))\n",
    "    if cv2.waitKey(1) == 27: # Press Escape key to close\n",
    "        break\n",
    "        \n",
    "# Releive camera and close windows\n",
    "capture.release()\n",
    "cv2.destroyAllWindows()"
   ]
  },
  {
   "cell_type": "code",
   "execution_count": null,
   "id": "flush-strand",
   "metadata": {},
   "outputs": [],
   "source": []
  },
  {
   "cell_type": "code",
   "execution_count": null,
   "id": "tight-estimate",
   "metadata": {},
   "outputs": [],
   "source": []
  }
 ],
 "metadata": {
  "kernelspec": {
   "display_name": "Python 3",
   "language": "python",
   "name": "python3"
  },
  "language_info": {
   "codemirror_mode": {
    "name": "ipython",
    "version": 3
   },
   "file_extension": ".py",
   "mimetype": "text/x-python",
   "name": "python",
   "nbconvert_exporter": "python",
   "pygments_lexer": "ipython3",
   "version": "3.7.7"
  }
 },
 "nbformat": 4,
 "nbformat_minor": 5
}
